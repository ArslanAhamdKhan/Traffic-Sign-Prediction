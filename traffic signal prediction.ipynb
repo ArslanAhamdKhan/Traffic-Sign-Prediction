{
 "cells": [
  {
   "cell_type": "markdown",
   "id": "68589ff6",
   "metadata": {},
   "source": [
    "## Importing Depedencies"
   ]
  },
  {
   "cell_type": "code",
   "execution_count": 2,
   "id": "755889e1",
   "metadata": {},
   "outputs": [],
   "source": [
    " import numpy as np\n",
    "import pandas as pd\n",
    "import matplotlib.pyplot as plt\n",
    "import tensorflow as tf\n",
    "from PIL import Image\n",
    "import os\n",
    "from sklearn.model_selection import train_test_split\n",
    "from keras.utils import to_categorical\n",
    "from keras.models import Sequential\n",
    "from keras.layers import Conv2D, MaxPool2D, Dense, Flatten, Dropout"
   ]
  },
  {
   "cell_type": "markdown",
   "id": "34c69011",
   "metadata": {},
   "source": [
    "### Labelling the training data"
   ]
  },
  {
   "cell_type": "code",
   "execution_count": 80,
   "id": "21effa66",
   "metadata": {},
   "outputs": [],
   "source": [
    "data = []\n",
    "labels = []\n",
    "classes= 43\n",
    "cur_path = os.getcwd()\n",
    "for i in range (classes):\n",
    "    path = os.path.join(cur_path, 'train', str(i))\n",
    "    images = os.listdir(path)\n",
    "    num=0\n",
    "    for a in images:\n",
    "        if num<500:     #We have taken 500 sample from each set ,just to speed up the process\n",
    "            try:        #You can take any number of sample\n",
    "\n",
    "                \n",
    "                image=Image.open(path + '\\\\'+ a)\n",
    "                image =image.resize((30,30))\n",
    "                image = np.array(image)\n",
    "                data.append(image)\n",
    "                labels.append(i)\n",
    "                num+=1\n",
    "\n",
    "            except:\n",
    "                print(\"Error loading image\")\n",
    "\n",
    "data = np.array(data)\n",
    "labels = np.array(labels)"
   ]
  },
  {
   "cell_type": "code",
   "execution_count": 81,
   "id": "44884ae7",
   "metadata": {},
   "outputs": [
    {
     "name": "stdout",
     "output_type": "stream",
     "text": [
      "(17970, 30, 30, 3) (17970,)\n"
     ]
    }
   ],
   "source": [
    "print(data.shape, labels.shape)"
   ]
  },
  {
   "cell_type": "code",
   "execution_count": 82,
   "id": "85bb3060",
   "metadata": {},
   "outputs": [
    {
     "name": "stdout",
     "output_type": "stream",
     "text": [
      "(14376, 30, 30, 3) (3594, 30, 30, 3) (14376,) (3594,)\n"
     ]
    }
   ],
   "source": [
    "#Splitting training and testing dataset\n",
    "\n",
    "\n",
    "X_train, X_test, y_train, y_test = train_test_split(data, labels, test_size=0.2, random_state=42)\n",
    "\n",
    "print(X_train.shape, X_test.shape, y_train.shape, y_test.shape)"
   ]
  },
  {
   "cell_type": "code",
   "execution_count": 83,
   "id": "b5da954b",
   "metadata": {},
   "outputs": [],
   "source": [
    "#Converting the labels into one hot encoding\n",
    "\n",
    "\n",
    "y_train = to_categorical(y_train, 43)\n",
    "y_test = to_categorical(y_test, 43)\n"
   ]
  },
  {
   "cell_type": "markdown",
   "id": "e22ca7a5",
   "metadata": {},
   "source": [
    "## Building the model"
   ]
  },
  {
   "cell_type": "code",
   "execution_count": 84,
   "id": "db2b2cb6",
   "metadata": {},
   "outputs": [],
   "source": [
    "\n",
    "model = Sequential()\n",
    "model.add(Conv2D(filters=32, kernel_size=(5,5), activation='relu', input_shape=X_train.shape[1:]))\n",
    "model.add(Conv2D(filters=32, kernel_size=(5,5), activation='relu'))\n",
    "model.add(MaxPool2D(pool_size=(2, 2)))\n",
    "model.add(Dropout(rate=0.25))\n",
    "model.add(Conv2D(filters=64, kernel_size=(3, 3), activation='relu'))\n",
    "model.add(Conv2D(filters=64, kernel_size=(3, 3), activation='relu'))\n",
    "model.add(MaxPool2D(pool_size=(2, 2)))\n",
    "model.add(Dropout(rate=0.25))\n",
    "model.add(Flatten())\n",
    "model.add(Dense(256, activation='relu'))\n",
    "model.add(Dropout(rate=0.5))\n",
    "model.add(Dense(43, activation='softmax'))"
   ]
  },
  {
   "cell_type": "markdown",
   "id": "18b92ab9",
   "metadata": {},
   "source": [
    "## Compilation of the model"
   ]
  },
  {
   "cell_type": "code",
   "execution_count": 85,
   "id": "0a245fde",
   "metadata": {},
   "outputs": [
    {
     "name": "stdout",
     "output_type": "stream",
     "text": [
      "Epoch 1/12\n",
      "450/450 [==============================] - 53s 113ms/step - loss: 3.2542 - accuracy: 0.2021 - val_loss: 1.6906 - val_accuracy: 0.6291\n",
      "Epoch 2/12\n",
      "450/450 [==============================] - 49s 110ms/step - loss: 1.5733 - accuracy: 0.5588 - val_loss: 0.7696 - val_accuracy: 0.7863\n",
      "Epoch 3/12\n",
      "450/450 [==============================] - 52s 115ms/step - loss: 1.0444 - accuracy: 0.6947 - val_loss: 0.4866 - val_accuracy: 0.8748\n",
      "Epoch 4/12\n",
      "450/450 [==============================] - 51s 113ms/step - loss: 0.8152 - accuracy: 0.7558 - val_loss: 0.5822 - val_accuracy: 0.8303\n",
      "Epoch 5/12\n",
      "450/450 [==============================] - 51s 114ms/step - loss: 0.5911 - accuracy: 0.8189 - val_loss: 0.2885 - val_accuracy: 0.9171\n",
      "Epoch 6/12\n",
      "450/450 [==============================] - 50s 111ms/step - loss: 0.4885 - accuracy: 0.8509 - val_loss: 0.1799 - val_accuracy: 0.9455\n",
      "Epoch 7/12\n",
      "450/450 [==============================] - 50s 111ms/step - loss: 0.4321 - accuracy: 0.8676 - val_loss: 0.1751 - val_accuracy: 0.9455\n",
      "Epoch 8/12\n",
      "450/450 [==============================] - 50s 111ms/step - loss: 0.4261 - accuracy: 0.8669 - val_loss: 0.1779 - val_accuracy: 0.9505\n",
      "Epoch 9/12\n",
      "450/450 [==============================] - 51s 114ms/step - loss: 0.3681 - accuracy: 0.8897 - val_loss: 0.1711 - val_accuracy: 0.9477\n",
      "Epoch 10/12\n",
      "450/450 [==============================] - 54s 120ms/step - loss: 0.3572 - accuracy: 0.8934 - val_loss: 0.1242 - val_accuracy: 0.9663\n",
      "Epoch 11/12\n",
      "450/450 [==============================] - 54s 120ms/step - loss: 0.3470 - accuracy: 0.8964 - val_loss: 0.1035 - val_accuracy: 0.9711\n",
      "Epoch 12/12\n",
      "450/450 [==============================] - 54s 121ms/step - loss: 0.2956 - accuracy: 0.9112 - val_loss: 0.0977 - val_accuracy: 0.9688\n"
     ]
    }
   ],
   "source": [
    "\n",
    "model.compile(loss='categorical_crossentropy', optimizer='adam', metrics=['accuracy'])\n",
    "\n",
    "epochs = 12\n",
    "history = model.fit(X_train, y_train, batch_size=32, epochs=epochs, validation_data=(X_test, y_test))\n",
    "model.save(\"my_model.h5\")"
   ]
  },
  {
   "cell_type": "markdown",
   "id": "55bde9c0",
   "metadata": {},
   "source": [
    "### Plotting accuracy graphs "
   ]
  },
  {
   "cell_type": "code",
   "execution_count": 86,
   "id": "0b6d61b2",
   "metadata": {},
   "outputs": [
    {
     "data": {
      "image/png": "[encoded data removed]",
      "text/plain": [
       "<Figure size 640x480 with 1 Axes>"
      ]
     },
     "metadata": {},
     "output_type": "display_data"
    },
    {
     "data": {
      "image/png": "[encoded data removed]",
      "text/plain": [
       "<Figure size 640x480 with 1 Axes>"
      ]
     },
     "metadata": {},
     "output_type": "display_data"
    }
   ],
   "source": [
    "plt.figure(0)\n",
    "plt.plot(history.history['accuracy'], label='training accuracy')\n",
    "plt.plot(history.history['val_accuracy'], label='val accuracy')\n",
    "plt.title('Accuracy')\n",
    "plt.xlabel('epochs')\n",
    "plt.ylabel('accuracy')\n",
    "plt.legend()\n",
    "plt.show()\n",
    "\n",
    "plt.figure(1)\n",
    "plt.plot(history.history['loss'], label='training loss')\n",
    "plt.plot(history.history['val_loss'], label='val loss')\n",
    "plt.title('Loss')\n",
    "plt.xlabel('epochs')\n",
    "plt.ylabel('loss')\n",
    "plt.legend()\n",
    "plt.show()"
   ]
  },
  {
   "cell_type": "markdown",
   "id": "77ba5636",
   "metadata": {},
   "source": [
    "#### Testing accuracy on test dataset"
   ]
  },
  {
   "cell_type": "code",
   "execution_count": 87,
   "id": "5432f851",
   "metadata": {},
   "outputs": [
    {
     "name": "stdout",
     "output_type": "stream",
     "text": [
      "(210, 30, 30, 3)\n",
      "7/7 [==============================] - 0s 30ms/step\n",
      "0.861904761904762\n"
     ]
    }
   ],
   "source": [
    "from sklearn.metrics import accuracy_score\n",
    "\n",
    "y_test = pd.read_csv('Test.csv')\n",
    "\n",
    "labels = y_test[\"ClassId\"][:500].values\n",
    "imgs = y_test[\"Path\"].values\n",
    "\n",
    "data=[]\n",
    "num=0\n",
    "for img in imgs:\n",
    "    if num<500:\n",
    "        image = Image.open(img)\n",
    "        image = image.resize((30,30))\n",
    "        data.append(np.array(image))\n",
    "        num+=1\n",
    "\n",
    "X_test=np.array(data)\n",
    "print(X_test.shape)\n",
    "\n",
    "pred = model.predict(X_test)\n",
    "classes=np.argmax(pred,axis=1)\n",
    "\n",
    "#Accuracy with the test data\n",
    "from sklearn.metrics import accuracy_score\n",
    "print(accuracy_score(labels, classes))\n",
    "\n"
   ]
  },
  {
   "cell_type": "markdown",
   "id": "c646f78f",
   "metadata": {},
   "source": [
    "# Making GUI"
   ]
  },
  {
   "cell_type": "code",
   "execution_count": 111,
   "id": "66bae434",
   "metadata": {},
   "outputs": [
    {
     "name": "stdout",
     "output_type": "stream",
     "text": [
      "1/1 [==============================] - 0s 137ms/step\n",
      "General caution\n",
      "1/1 [==============================] - 0s 30ms/step\n",
      "Ahead only\n"
     ]
    }
   ],
   "source": [
    "import tkinter as tk\n",
    "from tkinter import filedialog\n",
    "from tkinter import *\n",
    "from PIL import ImageTk, Image\n",
    "import numpy as np\n",
    "#load the trained model to classify sign\n",
    "from keras.models import load_model\n",
    "model = load_model('my_model.h5')\n",
    "#dictionary to label all traffic signs class.\n",
    "classes = { 1:'Speed limit (20km/h)',\n",
    "            2:'Speed limit (30km/h)', \n",
    "            3:'Speed limit (50km/h)', \n",
    "            4:'Speed limit (60km/h)', \n",
    "            5:'Speed limit (70km/h)', \n",
    "            6:'Speed limit (80km/h)', \n",
    "            7:'End of speed limit (80km/h)', \n",
    "            8:'Speed limit (100km/h)', \n",
    "            9:'Speed limit (120km/h)', \n",
    "            10:'No passing', \n",
    "            11:'No passing veh over 3.5 tons', \n",
    "            12:'Right-of-way at intersection', \n",
    "            13:'Priority road', \n",
    "            14:'Yield', \n",
    "            15:'Stop', \n",
    "            16:'No vehicles', \n",
    "            17:'Veh > 3.5 tons prohibited', \n",
    "            18:'No entry', \n",
    "            19:'General caution', \n",
    "            20:'Dangerous curve left', \n",
    "            21:'Dangerous curve right', \n",
    "            22:'Double curve', \n",
    "            23:'Bumpy road', \n",
    "            24:'Slippery road', \n",
    "            25:'Road narrows on the right', \n",
    "            26:'Road work', \n",
    "            27:'Traffic signals', \n",
    "            28:'Pedestrians', \n",
    "            29:'Children crossing', \n",
    "            30:'Bicycles crossing', \n",
    "            31:'Beware of ice/snow',\n",
    "            32:'Wild animals crossing', \n",
    "            33:'End speed + passing limits', \n",
    "            34:'Turn right ahead', \n",
    "            35:'Turn left ahead', \n",
    "            36:'Ahead only', \n",
    "            37:'Go straight or right', \n",
    "            38:'Go straight or left', \n",
    "            39:'Keep right', \n",
    "            40:'Keep left', \n",
    "            41:'Roundabout mandatory', \n",
    "            42:'End of no passing', \n",
    "            43:'End no passing veh > 3.5 tons' }\n",
    "#initialise GUI\n",
    "top=tk.Tk()\n",
    "top.geometry('800x600')\n",
    "top.title('Traffic sign classification')\n",
    "top.configure(background='#74998d')\n",
    "label=Label(top,background='#74998d', font=('arial',15,'bold'))\n",
    "sign_image = Label(top)\n",
    "def classify(file_path):\n",
    "    global label_packed\n",
    "    image = Image.open(file_path)\n",
    "    image = image.resize((30,30))\n",
    "    image = np.array(image)\n",
    "    \n",
    "    \n",
    "    predict1 = model.predict(tf.expand_dims(image,axis=0))\n",
    "    predict1_index = tf.argmax(predict1, axis=1).numpy()[0]\n",
    "    \n",
    "    sign = classes[predict1_index+1]\n",
    "\n",
    "    print(sign)\n",
    "    label.configure(foreground='#ff1f1f', text=sign) \n",
    "def show_classify_button(file_path):\n",
    "    classify_b=Button(top,text=\"Classify Image\",command=lambda: classify(file_path),padx=10,pady=5)\n",
    "    classify_b.configure(background='#20e8a9', foreground='black',font=('arial',10,'bold'))\n",
    "    classify_b.place(relx=0.42,rely=0.72)\n",
    "def upload_image():\n",
    "    try:\n",
    "        file_path=filedialog.askopenfilename()\n",
    "        uploaded=Image.open(file_path)\n",
    "        uploaded.thumbnail(((top.winfo_width()/2.25),(top.winfo_height()/2.25)))\n",
    "        im=ImageTk.PhotoImage(uploaded)\n",
    "        sign_image.configure(image=im)\n",
    "        sign_image.image=im\n",
    "        label.configure(text='')\n",
    "        show_classify_button(file_path)\n",
    "    except:\n",
    "        pass\n",
    "upload=Button(top,text=\"Upload an image\",command=upload_image,padx=10,pady=5)\n",
    "upload.configure(background='#20e8a9', foreground='black',font=('arial',10,'bold'))\n",
    "upload.pack(side=BOTTOM,pady=50)\n",
    "sign_image.pack(side=BOTTOM,expand=True)\n",
    "label.pack(side=BOTTOM,expand=True)\n",
    "heading = Label(top, text=\"Know Your Traffic Sign\",pady=20, font=('arial',20,'bold'))\n",
    "heading.configure(background='#CDCDCD',foreground='#364156')\n",
    "heading.pack()\n",
    "top.mainloop()"
   ]
  },
  {
   "cell_type": "code",
   "execution_count": null,
   "id": "eea91e08",
   "metadata": {},
   "outputs": [],
   "source": []
  },
  {
   "cell_type": "code",
   "execution_count": null,
   "id": "07b586b0",
   "metadata": {},
   "outputs": [],
   "source": []
  },
  {
   "cell_type": "code",
   "execution_count": null,
   "id": "df6b38c2",
   "metadata": {},
   "outputs": [],
   "source": []
  }
 ],
 "metadata": {
  "kernelspec": {
   "display_name": "Python 3 (ipykernel)",
   "language": "python",
   "name": "python3"
  },
  "language_info": {
   "codemirror_mode": {
    "name": "ipython",
    "version": 3
   },
   "file_extension": ".py",
   "mimetype": "text/x-python",
   "name": "python",
   "nbconvert_exporter": "python",
   "pygments_lexer": "ipython3",
   "version": "3.9.13"
  }
 },
 "nbformat": 4,
 "nbformat_minor": 5
}
